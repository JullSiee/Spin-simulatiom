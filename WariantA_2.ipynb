{
 "cells": [
  {
   "cell_type": "code",
   "execution_count": null,
   "id": "451aefa0-7feb-4de3-b097-68eddd256140",
   "metadata": {
    "tags": []
   },
   "outputs": [],
   "source": [
    "from qutip import *\n",
    "import numpy as np\n",
    "import matplotlib.pyplot as plt\n",
    "import matplotlib.patches as mpatches\n",
    "from matplotlib.animation import FuncAnimation\n",
    "from IPython.display import HTML\n",
    "from mpl_toolkits.mplot3d import Axes3D"
   ]
  },
  {
   "cell_type": "markdown",
   "id": "64117ea4-c33d-47a6-83d9-942d44617d52",
   "metadata": {},
   "source": [
    "2)\n",
    "$$H = J \\cdot \\sum_{j} \\, \\Big(S_j^x S_{j+1}^x + S_j^y S_{j+1}^y + S_j^z S_{j+1}^z -\\frac{1}{4} \\Big) + h \\sum_j \\Big [S_j^x \\cos{(j \\cdot \\phi)} - S_j^y \\sin{(j \\cdot \\phi)} \\Big ]$$\n",
    "gdzie: $\\phi = \\frac{2 \\pi }{N} \\cdot (N-1)$"
   ]
  },
  {
   "cell_type": "code",
   "execution_count": null,
   "id": "bbb344f2-0bea-4a81-8bc1-d2d1a9063388",
   "metadata": {
    "tags": []
   },
   "outputs": [],
   "source": [
    "def Sx(N, h, Jx, Jy, Jz, psi0, tlist, gamma, solver,phi):\n",
    "\n",
    "    si = qeye(2)\n",
    "    sx = sigmax()\n",
    "    sy = sigmay()\n",
    "    sz = sigmaz()\n",
    "\n",
    "    sx_list = []\n",
    "    sy_list = []\n",
    "    sz_list = []\n",
    "\n",
    "    for n in range(N):\n",
    "        op_list = []\n",
    "        for m in range(N):\n",
    "            op_list.append(si)\n",
    "\n",
    "        op_list[n] = sx\n",
    "        sx_list.append(tensor(op_list))\n",
    "\n",
    "        op_list[n] = sy\n",
    "        sy_list.append(tensor(op_list))\n",
    "\n",
    "        op_list[n] = sz\n",
    "        sz_list.append(tensor(op_list))\n",
    "\n",
    "    # Hamiltonian\n",
    "    H = 0\n",
    "\n",
    "    # energy splitting terms\n",
    "    for n in range(N):\n",
    "        H +=  0.5 * h[n] * (sx_list[n]*np.cos(n*phi)-sy_list[n]*np.sin(n*phi))\n",
    "\n",
    "    # interaction terms\n",
    "    for n in range(N-1):\n",
    "        H +=  0.5 * Jx[n] * sx_list[n] * sx_list[n+1]\n",
    "        H +=  0.5 * Jy[n] * sy_list[n] * sy_list[n+1]\n",
    "        H +=  0.5 * Jz[n] *( sz_list[n] * sz_list[n+1] - 0.25)\n",
    "\n",
    "    # collapse operators\n",
    "    c_op_list = []\n",
    "\n",
    "    # spin dephasing\n",
    "    for n in range(N):\n",
    "        if gamma[n] > 0.0:\n",
    "            c_op_list.append(np.sqrt(gamma[n]) * sx_list[n])\n",
    "\n",
    "    # evolve and calculate expectation values\n",
    "    if solver == \"me\":\n",
    "        result = mesolve(H, psi0, tlist, c_op_list, sx_list)\n",
    "    elif solver == \"mc\":\n",
    "        ntraj = 250 \n",
    "        result = mcsolve(H, psi0, tlist, c_op_list, sx_list, ntraj)\n",
    "\n",
    "    return result.expect"
   ]
  },
  {
   "cell_type": "code",
   "execution_count": null,
   "id": "51dbf5be-c6ff-4b84-84d3-c045497d1fe1",
   "metadata": {},
   "outputs": [],
   "source": [
    "def Sy(N, h, Jx, Jy, Jz, psi0, tlist, gamma, solver,phi):\n",
    "\n",
    "    si = qeye(2)\n",
    "    sx = sigmax()\n",
    "    sy = sigmay()\n",
    "    sz = sigmaz()\n",
    "\n",
    "    sx_list = []\n",
    "    sy_list = []\n",
    "    sz_list = []\n",
    "\n",
    "    for n in range(N):\n",
    "        op_list = []\n",
    "        for m in range(N):\n",
    "            op_list.append(si)\n",
    "\n",
    "        op_list[n] = sx\n",
    "        sx_list.append(tensor(op_list))\n",
    "\n",
    "        op_list[n] = sy\n",
    "        sy_list.append(tensor(op_list))\n",
    "\n",
    "        op_list[n] = sz\n",
    "        sz_list.append(tensor(op_list))\n",
    "\n",
    "    # Hamiltonian\n",
    "    H = 0\n",
    "\n",
    "    # energy splitting terms\n",
    "    for n in range(N):\n",
    "        H +=  0.5 * h[n] * (sx_list[n]*np.cos(n*phi)-sy_list[n]*np.sin(n*phi))\n",
    "\n",
    "    # interaction terms\n",
    "    for n in range(N-1):\n",
    "        H +=  0.5 * Jx[n] * sx_list[n] * sx_list[n+1]\n",
    "        H +=  0.5 * Jy[n] * sy_list[n] * sy_list[n+1]\n",
    "        H +=  0.5 * Jz[n] *( sz_list[n] * sz_list[n+1] - 0.25)\n",
    "\n",
    "    # collapse operators\n",
    "    c_op_list = []\n",
    "\n",
    "    # spin dephasing\n",
    "    for n in range(N):\n",
    "        if gamma[n] > 0.0:\n",
    "            c_op_list.append(np.sqrt(gamma[n]) * sy_list[n])\n",
    "\n",
    "    # evolve and calculate expectation values\n",
    "    if solver == \"me\":\n",
    "        result = mesolve(H, psi0, tlist, c_op_list, sy_list)\n",
    "    elif solver == \"mc\":\n",
    "        ntraj = 250 \n",
    "        result = mcsolve(H, psi0, tlist, c_op_list, sy_list, ntraj)\n",
    "\n",
    "    return result.expect"
   ]
  },
  {
   "cell_type": "code",
   "execution_count": null,
   "id": "4d1a09db-d1ce-4276-9955-c909905897e4",
   "metadata": {},
   "outputs": [],
   "source": [
    "def Sz(N, h, Jx, Jy, Jz, psi0, tlist, gamma, solver, phi):\n",
    "\n",
    "    si = qeye(2)\n",
    "    sx = sigmax()\n",
    "    sy = sigmay()\n",
    "    sz = sigmaz()\n",
    "\n",
    "    sx_list = []\n",
    "    sy_list = []\n",
    "    sz_list = []\n",
    "\n",
    "    for n in range(N):\n",
    "        op_list = []\n",
    "        for m in range(N):\n",
    "            op_list.append(si)\n",
    "\n",
    "        op_list[n] = sx\n",
    "        sx_list.append(tensor(op_list))\n",
    "\n",
    "        op_list[n] = sy\n",
    "        sy_list.append(tensor(op_list))\n",
    "\n",
    "        op_list[n] = sz\n",
    "        sz_list.append(tensor(op_list))\n",
    "\n",
    "    # Hamiltonian\n",
    "    H = 0\n",
    "\n",
    "    # energy splitting terms\n",
    "    for n in range(N):\n",
    "        H +=  0.5 * h[n] * (sx_list[n]*np.cos(n*phi)-sy_list[n]*np.sin(n*phi))\n",
    "\n",
    "    # interaction terms\n",
    "    for n in range(N-1):\n",
    "        H +=  0.5 * Jx[n] * sx_list[n] * sx_list[n+1]\n",
    "        H +=  0.5 * Jy[n] * sy_list[n] * sy_list[n+1]\n",
    "        H +=  0.5 * Jz[n] *( sz_list[n] * sz_list[n+1] - 0.25)\n",
    "\n",
    "    # collapse operators\n",
    "    c_op_list = []\n",
    "\n",
    "    # spin dephasing\n",
    "    for n in range(N):\n",
    "        if gamma[n] > 0.0:\n",
    "            c_op_list.append(np.sqrt(gamma[n]) * sz_list[n])\n",
    "\n",
    "    # evolve and calculate expectation values\n",
    "    if solver == \"me\":\n",
    "        result = mesolve(H, psi0, tlist, c_op_list, sz_list)\n",
    "    elif solver == \"mc\":\n",
    "        ntraj = 250 \n",
    "        result = mcsolve(H, psi0, tlist, c_op_list, sz_list, ntraj)\n",
    "\n",
    "    return result.expect"
   ]
  },
  {
   "cell_type": "code",
   "execution_count": null,
   "id": "c3a3af9e-a6c6-4f5e-8e5f-8477d64f1f25",
   "metadata": {
    "tags": []
   },
   "outputs": [],
   "source": [
    "# use the ode solver\n",
    "solver = \"me\"\n",
    "# use the monte-carlo solver\n",
    "# solver = \"mc\"   \n",
    "\n",
    "# number of spins\n",
    "N = 8       \n",
    "\n",
    "h = 0.05*np.ones(N)\n",
    "Jx = 1*np.ones(N)\n",
    "Jy = 1*np.ones(N)\n",
    "Jz = 1*np.ones(N)\n",
    "\n",
    "# dephasing rate\n",
    "gamma = np.zeros(N)\n",
    "\n",
    "# intial state\n",
    "psi_list = []\n",
    "\n",
    "psi_list.append(coherent(2,np.pi/4))\n",
    "psi_list.append(coherent(2,np.pi/4))\n",
    "psi_list.append(coherent(2,np.pi/4))\n",
    "psi_list.append(coherent(2,np.pi/4))\n",
    "psi_list.append(coherent(2,np.pi/4))\n",
    "psi_list.append(coherent(2,np.pi/4))\n",
    "psi_list.append(coherent(2,np.pi/4))\n",
    "psi_list.append(coherent(2,np.pi/4))\n",
    "\n",
    "psi0 = tensor(psi_list)\n",
    "\n",
    "tlist = np.linspace(0, 25000, 2500)\n",
    "\n",
    "sx = Sx(N, h, Jx, Jy, Jz, psi0, tlist, gamma, solver, 3*np.pi/2)\n",
    "sy = Sy(N, h, Jx, Jy, Jz, psi0, tlist, gamma, solver, 3*np.pi/2)\n",
    "sz = Sz(N, h, Jx, Jy, Jz, psi0, tlist, gamma, solver, 3*np.pi/2)"
   ]
  },
  {
   "cell_type": "code",
   "execution_count": null,
   "id": "e181675b-7216-450c-9131-cb8704418c57",
   "metadata": {
    "tags": []
   },
   "outputs": [],
   "source": [
    "suma_sz = [sum(i) for i in zip(*sz)]"
   ]
  },
  {
   "cell_type": "code",
   "execution_count": null,
   "id": "bd8d72b6-2d7a-494f-872a-baaa8259abe4",
   "metadata": {
    "tags": []
   },
   "outputs": [],
   "source": [
    "fig, ax = plt.subplots(figsize=(10,6))\n",
    "\n",
    "ax.plot(tlist, suma_sz)\n",
    "\n",
    "ax.set_xlabel(r'Time [ns]')\n",
    "ax.set_ylabel(r'$\\langle \\sigma_z \\rangle$')\n",
    "ax.set_title(r'$\\langle \\sigma_z \\rangle (t)$')"
   ]
  },
  {
   "cell_type": "code",
   "execution_count": null,
   "id": "f7546942-38c0-47e3-b6fb-9c60cd4aceda",
   "metadata": {
    "tags": []
   },
   "outputs": [],
   "source": [
    "suma_sx = [sum(i) for i in zip(*sx)]"
   ]
  },
  {
   "cell_type": "code",
   "execution_count": null,
   "id": "0fc83625-8017-481a-bca8-a86c7fe0da75",
   "metadata": {
    "tags": []
   },
   "outputs": [],
   "source": [
    "fig, ax = plt.subplots(figsize=(10,6))\n",
    "\n",
    "ax.plot(tlist, suma_sx)\n",
    "\n",
    "ax.set_xlabel(r'Time [ns]')\n",
    "ax.set_ylabel(r'$\\langle \\sigma_x \\rangle$')\n",
    "ax.set_title(r'$\\langle \\sigma_x \\rangle (t)$')"
   ]
  },
  {
   "cell_type": "code",
   "execution_count": null,
   "id": "8fda38b9-8d8c-4b21-a914-f5379667a163",
   "metadata": {
    "tags": []
   },
   "outputs": [],
   "source": [
    "suma_sy = [sum(i) for i in zip(*sy)]"
   ]
  },
  {
   "cell_type": "code",
   "execution_count": null,
   "id": "896667ac-550d-4644-bd72-aee923f2d229",
   "metadata": {
    "tags": []
   },
   "outputs": [],
   "source": [
    "fig, ax = plt.subplots(figsize=(10,6))\n",
    "\n",
    "ax.plot(tlist, suma_sy)\n",
    "\n",
    "ax.set_xlabel(r'Time [ns]')\n",
    "ax.set_ylabel(r'$\\langle \\sigma_y \\rangle$')\n",
    "ax.set_title(r'$\\langle \\sigma_y \\rangle (t)$')"
   ]
  },
  {
   "cell_type": "code",
   "execution_count": null,
   "id": "11c8b7c1-e53c-4b7d-9299-918299f29e4e",
   "metadata": {
    "tags": []
   },
   "outputs": [],
   "source": [
    "fig = plt.figure(figsize=(12,12), dpi=100)\n",
    "ax = fig.subplots(subplot_kw=dict(projection=\"3d\"))\n",
    "ax.quiver(-3,-3,-0.5,1,0,0,color = 'black', arrow_length_ratio = 0.2)\n",
    "ax.quiver(-3,-3,-0.5,0,1,0,color = 'black', arrow_length_ratio = 0.2)\n",
    "ax.quiver(-3,-3,-0.5,0,0,1,color = 'black', arrow_length_ratio = 0.2)\n",
    "ax.text(-3.2,-2.2,-1.4,'$S_x$')\n",
    "ax.text(-2.9,-2.3,-0.65,'$S_y$')\n",
    "ax.text(-3.5,-2.9,0.1,'$S_z$')\n",
    "def get_arrow(x,i,j):\n",
    "    y = 0\n",
    "    z = 0\n",
    "    u = sx[i][j]\n",
    "    v = sy[i][j]\n",
    "    w = sz[i][j]\n",
    "    return x,y,z,u,v,w\n",
    "\n",
    "quiver1 = ax.quiver(*get_arrow(-4,0,0), linewidth = 2.0, color = 'red', arrow_length_ratio = 0.2)\n",
    "quiver2 = ax.quiver(*get_arrow(-3,1,0), linewidth = 2.0, color = 'red', arrow_length_ratio = 0.2)\n",
    "quiver3 = ax.quiver(*get_arrow(-2,2,0), linewidth = 2.0, color = 'red', arrow_length_ratio = 0.2)\n",
    "quiver4 = ax.quiver(*get_arrow(-1,3,0), linewidth = 2.0, color = 'red', arrow_length_ratio = 0.2)\n",
    "quiver5 = ax.quiver(*get_arrow(0,4,0), linewidth = 2.0, color = 'red', arrow_length_ratio = 0.2)\n",
    "quiver6 = ax.quiver(*get_arrow(1,5,0), linewidth = 2.0, color = 'red', arrow_length_ratio = 0.2)\n",
    "quiver7 = ax.quiver(*get_arrow(2,6,0), linewidth = 2.0, color = 'red', arrow_length_ratio = 0.2)\n",
    "quiver8 = ax.quiver(*get_arrow(3,7,0), linewidth = 2.0, color = 'red', arrow_length_ratio = 0.2)\n",
    "\n",
    "ax.set_xlim(-4, 4)\n",
    "ax.set_ylim(-4, 4)\n",
    "ax.set_zlim(-3, 3)\n",
    "\n",
    "def update(j):\n",
    "    global quiver1, quiver2, quiver3, quiver4, quiver5, quiver6, quiver7, quiver8\n",
    "    quiver1.remove()\n",
    "    quiver1 = ax.quiver(*get_arrow(-4,0,j), linewidth = 2.0, color = 'red', arrow_length_ratio = 0.2)\n",
    "    quiver2.remove()\n",
    "    quiver2 = ax.quiver(*get_arrow(-3,1,j), linewidth = 2.0, color = 'red', arrow_length_ratio = 0.2)\n",
    "    quiver3.remove()\n",
    "    quiver3 = ax.quiver(*get_arrow(-2,2,j), linewidth = 2.0, color = 'red', arrow_length_ratio = 0.2)\n",
    "    quiver4.remove()\n",
    "    quiver4 = ax.quiver(*get_arrow(-1,3,j), linewidth = 2.0, color = 'red', arrow_length_ratio = 0.2)\n",
    "    quiver5.remove()\n",
    "    quiver5 = ax.quiver(*get_arrow(0,4,j), linewidth = 2.0, color = 'red', arrow_length_ratio = 0.2)\n",
    "    quiver6.remove()\n",
    "    quiver6 = ax.quiver(*get_arrow(1,5,j), linewidth = 2.0, color = 'red', arrow_length_ratio = 0.2)\n",
    "    quiver7.remove()\n",
    "    quiver7 = ax.quiver(*get_arrow(2,6,j), linewidth = 2.0, color = 'red', arrow_length_ratio = 0.2)\n",
    "    quiver8.remove()\n",
    "    quiver8 = ax.quiver(*get_arrow(3,7,j), linewidth = 2.0, color = 'red', arrow_length_ratio = 0.2)\n",
    "    \n",
    "plt.axis('off')\n",
    "ani = FuncAnimation(fig, update, frames=2500,interval=10)\n",
    "HTML(ani.to_html5_video())"
   ]
  },
  {
   "cell_type": "code",
   "execution_count": null,
   "id": "00d9e109-829e-4aa3-a942-4f7c4459ff75",
   "metadata": {
    "tags": []
   },
   "outputs": [],
   "source": [
    "#saving the gif\n",
    "#ani.save('animation4.gif', writer='imagemagick')"
   ]
  },
  {
   "cell_type": "code",
   "execution_count": null,
   "id": "6c1a892e-56ab-47bf-a4af-4299cfadb12f",
   "metadata": {},
   "outputs": [],
   "source": []
  }
 ],
 "metadata": {
  "kernelspec": {
   "display_name": "Python 3",
   "language": "python",
   "name": "python3"
  },
  "language_info": {
   "codemirror_mode": {
    "name": "ipython",
    "version": 3
   },
   "file_extension": ".py",
   "mimetype": "text/x-python",
   "name": "python",
   "nbconvert_exporter": "python",
   "pygments_lexer": "ipython3",
   "version": "3.8.5"
  }
 },
 "nbformat": 4,
 "nbformat_minor": 5
}
